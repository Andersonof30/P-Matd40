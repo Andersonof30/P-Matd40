{
  "nbformat": 4,
  "nbformat_minor": 0,
  "metadata": {
    "colab": {
      "name": "Projeto Matd40.ipynb",
      "provenance": [],
      "collapsed_sections": [],
      "include_colab_link": true
    },
    "kernelspec": {
      "name": "python3",
      "display_name": "Python 3"
    }
  },
  "cells": [
    {
      "cell_type": "markdown",
      "metadata": {
        "id": "view-in-github",
        "colab_type": "text"
      },
      "source": [
        "<a href=\"https://colab.research.google.com/github/Andersonof30/P-Matd40/blob/main/Projeto_Matd40.ipynb\" target=\"_parent\"><img src=\"https://colab.research.google.com/assets/colab-badge.svg\" alt=\"Open In Colab\"/></a>"
      ]
    },
    {
      "cell_type": "code",
      "metadata": {
        "id": "93GG-NQVC3qm"
      },
      "source": [
        "!pip install sweetviz \n",
        "import sweetviz"
      ],
      "execution_count": null,
      "outputs": []
    },
    {
      "cell_type": "code",
      "metadata": {
        "id": "J_IQcUJOQVQo"
      },
      "source": [
        "import math\n",
        "import pandas as pd\n"
      ],
      "execution_count": 20,
      "outputs": []
    },
    {
      "cell_type": "code",
      "metadata": {
        "id": "YDNanX_SQ1W7"
      },
      "source": [
        "nasa = pd.read_csv(\"nasa1.csv\", sep = \" \")\n"
      ],
      "execution_count": 21,
      "outputs": []
    },
    {
      "cell_type": "code",
      "metadata": {
        "id": "lqBmloYdZ1cb",
        "colab": {
          "base_uri": "https://localhost:8080/",
          "height": 224
        },
        "outputId": "54c4985a-7cca-4f67-c5de-979ffde4fac4"
      },
      "source": [
        "pd.DataFrame.head(nasa)"
      ],
      "execution_count": null,
      "outputs": [
        {
          "output_type": "execute_result",
          "data": {
            "text/html": [
              "<div>\n",
              "<style scoped>\n",
              "    .dataframe tbody tr th:only-of-type {\n",
              "        vertical-align: middle;\n",
              "    }\n",
              "\n",
              "    .dataframe tbody tr th {\n",
              "        vertical-align: top;\n",
              "    }\n",
              "\n",
              "    .dataframe thead th {\n",
              "        text-align: right;\n",
              "    }\n",
              "</style>\n",
              "<table border=\"1\" class=\"dataframe\">\n",
              "  <thead>\n",
              "    <tr style=\"text-align: right;\">\n",
              "      <th></th>\n",
              "      <th>am</th>\n",
              "      <th>dmin</th>\n",
              "      <th>dmax</th>\n",
              "      <th>rv</th>\n",
              "      <th>md</th>\n",
              "      <th>ou</th>\n",
              "      <th>moi</th>\n",
              "      <th>jti</th>\n",
              "      <th>eo</th>\n",
              "      <th>ecc</th>\n",
              "      <th>sma</th>\n",
              "      <th>inc</th>\n",
              "      <th>anl</th>\n",
              "      <th>op</th>\n",
              "      <th>pd</th>\n",
              "      <th>pa</th>\n",
              "      <th>ad</th>\n",
              "      <th>pt</th>\n",
              "      <th>ma</th>\n",
              "      <th>mm</th>\n",
              "      <th>haz</th>\n",
              "    </tr>\n",
              "  </thead>\n",
              "  <tbody>\n",
              "    <tr>\n",
              "      <th>1</th>\n",
              "      <td>21.6</td>\n",
              "      <td>0.127220</td>\n",
              "      <td>0.284472</td>\n",
              "      <td>6.115834</td>\n",
              "      <td>0.419483</td>\n",
              "      <td>5</td>\n",
              "      <td>0.025282</td>\n",
              "      <td>4.634</td>\n",
              "      <td>2458000.5</td>\n",
              "      <td>0.425549</td>\n",
              "      <td>1.407011</td>\n",
              "      <td>6.025981</td>\n",
              "      <td>314.373913</td>\n",
              "      <td>609.599786</td>\n",
              "      <td>0.808259</td>\n",
              "      <td>57.257470</td>\n",
              "      <td>2.005764</td>\n",
              "      <td>2.458162e+06</td>\n",
              "      <td>264.837533</td>\n",
              "      <td>0.590551</td>\n",
              "      <td>True</td>\n",
              "    </tr>\n",
              "    <tr>\n",
              "      <th>2</th>\n",
              "      <td>21.3</td>\n",
              "      <td>0.146068</td>\n",
              "      <td>0.326618</td>\n",
              "      <td>18.113985</td>\n",
              "      <td>0.383014</td>\n",
              "      <td>3</td>\n",
              "      <td>0.186935</td>\n",
              "      <td>5.457</td>\n",
              "      <td>2458000.5</td>\n",
              "      <td>0.351674</td>\n",
              "      <td>1.107776</td>\n",
              "      <td>28.412996</td>\n",
              "      <td>136.717242</td>\n",
              "      <td>425.869294</td>\n",
              "      <td>0.718200</td>\n",
              "      <td>313.091975</td>\n",
              "      <td>1.497352</td>\n",
              "      <td>2.457795e+06</td>\n",
              "      <td>173.741112</td>\n",
              "      <td>0.845330</td>\n",
              "      <td>False</td>\n",
              "    </tr>\n",
              "    <tr>\n",
              "      <th>3</th>\n",
              "      <td>20.3</td>\n",
              "      <td>0.231502</td>\n",
              "      <td>0.517654</td>\n",
              "      <td>7.590711</td>\n",
              "      <td>0.050956</td>\n",
              "      <td>0</td>\n",
              "      <td>0.043058</td>\n",
              "      <td>4.557</td>\n",
              "      <td>2458000.5</td>\n",
              "      <td>0.348248</td>\n",
              "      <td>1.458824</td>\n",
              "      <td>4.237961</td>\n",
              "      <td>259.475979</td>\n",
              "      <td>643.580228</td>\n",
              "      <td>0.950791</td>\n",
              "      <td>248.415038</td>\n",
              "      <td>1.966857</td>\n",
              "      <td>2.458120e+06</td>\n",
              "      <td>292.893654</td>\n",
              "      <td>0.559371</td>\n",
              "      <td>True</td>\n",
              "    </tr>\n",
              "    <tr>\n",
              "      <th>4</th>\n",
              "      <td>27.4</td>\n",
              "      <td>0.008801</td>\n",
              "      <td>0.019681</td>\n",
              "      <td>11.173874</td>\n",
              "      <td>0.285322</td>\n",
              "      <td>6</td>\n",
              "      <td>0.005512</td>\n",
              "      <td>5.093</td>\n",
              "      <td>2458000.5</td>\n",
              "      <td>0.216578</td>\n",
              "      <td>1.255903</td>\n",
              "      <td>7.905894</td>\n",
              "      <td>57.173266</td>\n",
              "      <td>514.082140</td>\n",
              "      <td>0.983902</td>\n",
              "      <td>18.707701</td>\n",
              "      <td>1.527904</td>\n",
              "      <td>2.457902e+06</td>\n",
              "      <td>68.741007</td>\n",
              "      <td>0.700277</td>\n",
              "      <td>False</td>\n",
              "    </tr>\n",
              "    <tr>\n",
              "      <th>5</th>\n",
              "      <td>21.6</td>\n",
              "      <td>0.127220</td>\n",
              "      <td>0.284472</td>\n",
              "      <td>9.840831</td>\n",
              "      <td>0.407832</td>\n",
              "      <td>1</td>\n",
              "      <td>0.034798</td>\n",
              "      <td>5.154</td>\n",
              "      <td>2458000.5</td>\n",
              "      <td>0.210448</td>\n",
              "      <td>1.225615</td>\n",
              "      <td>16.793382</td>\n",
              "      <td>84.629307</td>\n",
              "      <td>495.597821</td>\n",
              "      <td>0.967687</td>\n",
              "      <td>158.263596</td>\n",
              "      <td>1.483543</td>\n",
              "      <td>2.457814e+06</td>\n",
              "      <td>135.142133</td>\n",
              "      <td>0.726395</td>\n",
              "      <td>True</td>\n",
              "    </tr>\n",
              "  </tbody>\n",
              "</table>\n",
              "</div>"
            ],
            "text/plain": [
              "     am      dmin      dmax  ...          ma        mm    haz\n",
              "1  21.6  0.127220  0.284472  ...  264.837533  0.590551   True\n",
              "2  21.3  0.146068  0.326618  ...  173.741112  0.845330  False\n",
              "3  20.3  0.231502  0.517654  ...  292.893654  0.559371   True\n",
              "4  27.4  0.008801  0.019681  ...   68.741007  0.700277  False\n",
              "5  21.6  0.127220  0.284472  ...  135.142133  0.726395   True\n",
              "\n",
              "[5 rows x 21 columns]"
            ]
          },
          "metadata": {
            "tags": []
          },
          "execution_count": 10
        }
      ]
    },
    {
      "cell_type": "code",
      "metadata": {
        "id": "vioAQWIHU82z"
      },
      "source": [
        "eda = sweetviz.compare_intra(nasa,nasa['haz'] == 0, ['n', 's'])\n"
      ],
      "execution_count": null,
      "outputs": []
    },
    {
      "cell_type": "code",
      "metadata": {
        "id": "OPOAEJOLcfSu",
        "colab": {
          "base_uri": "https://localhost:8080/"
        },
        "outputId": "d653c55f-917d-4831-b205-d891ea941495"
      },
      "source": [
        "eda.show_html()"
      ],
      "execution_count": null,
      "outputs": [
        {
          "output_type": "stream",
          "text": [
            "Report SWEETVIZ_REPORT.html was generated! NOTEBOOK/COLAB USERS: the web browser MAY not pop up, regardless, the report IS saved in your notebook/colab files.\n"
          ],
          "name": "stdout"
        }
      ]
    },
    {
      "cell_type": "markdown",
      "metadata": {
        "id": "_Ya2zckxsYqS"
      },
      "source": [
        "Modelagem \n"
      ]
    },
    {
      "cell_type": "code",
      "metadata": {
        "id": "VyIHAOzasXys"
      },
      "source": [
        "import sklearn \n",
        "from sklearn.model_selection import train_test_split"
      ],
      "execution_count": 6,
      "outputs": []
    },
    {
      "cell_type": "markdown",
      "metadata": {
        "id": "xlFw0yBntQwl"
      },
      "source": [
        "Fazendo divisão treino e teste\n"
      ]
    },
    {
      "cell_type": "code",
      "metadata": {
        "id": "aCq7kvUdtPtK"
      },
      "source": [
        "Xtreino, Xteste, Ytreino, Yteste = train_test_split(nasa.iloc[:,0:20], \n",
        "                                                    nasa['haz'], \n",
        "                                                    test_size = 0.3)"
      ],
      "execution_count": 22,
      "outputs": []
    },
    {
      "cell_type": "code",
      "metadata": {
        "colab": {
          "base_uri": "https://localhost:8080/",
          "height": 224
        },
        "id": "l6wmauSDttSe",
        "outputId": "c3f5de2d-3b89-4826-b7c9-5c5733b19fb5"
      },
      "source": [
        "Xtreino.head()"
      ],
      "execution_count": null,
      "outputs": [
        {
          "output_type": "execute_result",
          "data": {
            "text/html": [
              "<div>\n",
              "<style scoped>\n",
              "    .dataframe tbody tr th:only-of-type {\n",
              "        vertical-align: middle;\n",
              "    }\n",
              "\n",
              "    .dataframe tbody tr th {\n",
              "        vertical-align: top;\n",
              "    }\n",
              "\n",
              "    .dataframe thead th {\n",
              "        text-align: right;\n",
              "    }\n",
              "</style>\n",
              "<table border=\"1\" class=\"dataframe\">\n",
              "  <thead>\n",
              "    <tr style=\"text-align: right;\">\n",
              "      <th></th>\n",
              "      <th>am</th>\n",
              "      <th>dmin</th>\n",
              "      <th>dmax</th>\n",
              "      <th>rv</th>\n",
              "      <th>md</th>\n",
              "      <th>ou</th>\n",
              "      <th>moi</th>\n",
              "      <th>jti</th>\n",
              "      <th>eo</th>\n",
              "      <th>ecc</th>\n",
              "      <th>sma</th>\n",
              "      <th>inc</th>\n",
              "      <th>anl</th>\n",
              "      <th>op</th>\n",
              "      <th>pd</th>\n",
              "      <th>pa</th>\n",
              "      <th>ad</th>\n",
              "      <th>pt</th>\n",
              "      <th>ma</th>\n",
              "      <th>mm</th>\n",
              "    </tr>\n",
              "  </thead>\n",
              "  <tbody>\n",
              "    <tr>\n",
              "      <th>2792</th>\n",
              "      <td>25.4</td>\n",
              "      <td>0.022108</td>\n",
              "      <td>0.049436</td>\n",
              "      <td>14.735017</td>\n",
              "      <td>0.004651</td>\n",
              "      <td>7</td>\n",
              "      <td>0.000093</td>\n",
              "      <td>7.726</td>\n",
              "      <td>2458000.5</td>\n",
              "      <td>0.564932</td>\n",
              "      <td>0.732106</td>\n",
              "      <td>2.982160</td>\n",
              "      <td>320.109648</td>\n",
              "      <td>228.801612</td>\n",
              "      <td>0.318516</td>\n",
              "      <td>330.880404</td>\n",
              "      <td>1.145696</td>\n",
              "      <td>2.458044e+06</td>\n",
              "      <td>291.940853</td>\n",
              "      <td>1.573415</td>\n",
              "    </tr>\n",
              "    <tr>\n",
              "      <th>1683</th>\n",
              "      <td>25.0</td>\n",
              "      <td>0.026580</td>\n",
              "      <td>0.059435</td>\n",
              "      <td>7.446504</td>\n",
              "      <td>0.321681</td>\n",
              "      <td>6</td>\n",
              "      <td>0.022160</td>\n",
              "      <td>5.778</td>\n",
              "      <td>2458000.5</td>\n",
              "      <td>0.243754</td>\n",
              "      <td>1.061221</td>\n",
              "      <td>2.864333</td>\n",
              "      <td>123.440354</td>\n",
              "      <td>399.307223</td>\n",
              "      <td>0.802544</td>\n",
              "      <td>114.427575</td>\n",
              "      <td>1.319898</td>\n",
              "      <td>2.457906e+06</td>\n",
              "      <td>84.949204</td>\n",
              "      <td>0.901561</td>\n",
              "    </tr>\n",
              "    <tr>\n",
              "      <th>4612</th>\n",
              "      <td>23.8</td>\n",
              "      <td>0.046191</td>\n",
              "      <td>0.103286</td>\n",
              "      <td>28.376660</td>\n",
              "      <td>0.058620</td>\n",
              "      <td>9</td>\n",
              "      <td>0.029873</td>\n",
              "      <td>3.160</td>\n",
              "      <td>2457552.5</td>\n",
              "      <td>0.837997</td>\n",
              "      <td>2.107909</td>\n",
              "      <td>5.538720</td>\n",
              "      <td>117.757705</td>\n",
              "      <td>1117.830910</td>\n",
              "      <td>0.341487</td>\n",
              "      <td>262.672260</td>\n",
              "      <td>3.874331</td>\n",
              "      <td>2.457599e+06</td>\n",
              "      <td>345.149622</td>\n",
              "      <td>0.322052</td>\n",
              "    </tr>\n",
              "    <tr>\n",
              "      <th>2207</th>\n",
              "      <td>23.1</td>\n",
              "      <td>0.063761</td>\n",
              "      <td>0.142574</td>\n",
              "      <td>15.902893</td>\n",
              "      <td>0.427483</td>\n",
              "      <td>4</td>\n",
              "      <td>0.145097</td>\n",
              "      <td>5.042</td>\n",
              "      <td>2458000.5</td>\n",
              "      <td>0.148255</td>\n",
              "      <td>1.248409</td>\n",
              "      <td>25.622761</td>\n",
              "      <td>158.620568</td>\n",
              "      <td>509.487744</td>\n",
              "      <td>1.063327</td>\n",
              "      <td>61.907815</td>\n",
              "      <td>1.433491</td>\n",
              "      <td>2.457799e+06</td>\n",
              "      <td>142.588067</td>\n",
              "      <td>0.706592</td>\n",
              "    </tr>\n",
              "    <tr>\n",
              "      <th>293</th>\n",
              "      <td>18.0</td>\n",
              "      <td>0.667659</td>\n",
              "      <td>1.492932</td>\n",
              "      <td>15.978699</td>\n",
              "      <td>0.305982</td>\n",
              "      <td>1</td>\n",
              "      <td>0.130923</td>\n",
              "      <td>4.138</td>\n",
              "      <td>2458000.5</td>\n",
              "      <td>0.576100</td>\n",
              "      <td>1.605904</td>\n",
              "      <td>8.687526</td>\n",
              "      <td>252.174760</td>\n",
              "      <td>743.323311</td>\n",
              "      <td>0.680742</td>\n",
              "      <td>200.482142</td>\n",
              "      <td>2.531066</td>\n",
              "      <td>2.457875e+06</td>\n",
              "      <td>60.854071</td>\n",
              "      <td>0.484311</td>\n",
              "    </tr>\n",
              "  </tbody>\n",
              "</table>\n",
              "</div>"
            ],
            "text/plain": [
              "        am      dmin      dmax  ...            pt          ma        mm\n",
              "2792  25.4  0.022108  0.049436  ...  2.458044e+06  291.940853  1.573415\n",
              "1683  25.0  0.026580  0.059435  ...  2.457906e+06   84.949204  0.901561\n",
              "4612  23.8  0.046191  0.103286  ...  2.457599e+06  345.149622  0.322052\n",
              "2207  23.1  0.063761  0.142574  ...  2.457799e+06  142.588067  0.706592\n",
              "293   18.0  0.667659  1.492932  ...  2.457875e+06   60.854071  0.484311\n",
              "\n",
              "[5 rows x 20 columns]"
            ]
          },
          "metadata": {
            "tags": []
          },
          "execution_count": 51
        }
      ]
    },
    {
      "cell_type": "markdown",
      "metadata": {
        "id": "QAqJPd3owePo"
      },
      "source": [
        "Fazendo a Padronização das variaveis"
      ]
    },
    {
      "cell_type": "code",
      "metadata": {
        "id": "NAj2qvxgvGT0"
      },
      "source": [
        "from sklearn.preprocessing import StandardScaler\n",
        "\n",
        "sc = StandardScaler()\n",
        "Xtreino = sc.fit_transform(Xtreino)\n",
        "Xteste = sc.transform(Xteste)"
      ],
      "execution_count": 23,
      "outputs": []
    },
    {
      "cell_type": "markdown",
      "metadata": {
        "id": "1btZ8SmAwj21"
      },
      "source": [
        "Ajustando a Regressão Logistica"
      ]
    },
    {
      "cell_type": "code",
      "metadata": {
        "colab": {
          "base_uri": "https://localhost:8080/"
        },
        "id": "5Hui0nJRwUD6",
        "outputId": "50912dd8-17d4-4b71-f3fa-1711cb503150"
      },
      "source": [
        "from sklearn.linear_model import LogisticRegression\n",
        "\n",
        "import matplotlib.pyplot as plt  \n",
        "\n",
        "# Ajustando o modelo de Regressão Logística\n",
        "reglog = LogisticRegression()\n",
        "reglog.fit(Xtreino, Ytreino)"
      ],
      "execution_count": null,
      "outputs": [
        {
          "output_type": "execute_result",
          "data": {
            "text/plain": [
              "LogisticRegression(C=1.0, class_weight=None, dual=False, fit_intercept=True,\n",
              "                   intercept_scaling=1, l1_ratio=None, max_iter=100,\n",
              "                   multi_class='auto', n_jobs=None, penalty='l2',\n",
              "                   random_state=None, solver='lbfgs', tol=0.0001, verbose=0,\n",
              "                   warm_start=False)"
            ]
          },
          "metadata": {
            "tags": []
          },
          "execution_count": 67
        }
      ]
    },
    {
      "cell_type": "markdown",
      "metadata": {
        "id": "jNmj2kmwwoqJ"
      },
      "source": [
        "Calculando acuracia"
      ]
    },
    {
      "cell_type": "code",
      "metadata": {
        "colab": {
          "base_uri": "https://localhost:8080/"
        },
        "id": "d87CE7aLwWCt",
        "outputId": "1a22272c-e118-42a7-95c9-ec5edefd0ab4"
      },
      "source": [
        "from sklearn.metrics import accuracy_score\n",
        "\n",
        "preditos_treino = reglog.predict(Xtreino)\n",
        "preditos_teste = reglog.predict(Xteste)\n",
        "\n",
        "acc_treino = accuracy_score(preditos_treino, Ytreino)\n",
        "acc_teste = accuracy_score(preditos_teste, Yteste)\n",
        "\n",
        "print('A Acurácia de TREINO foi: {:.2f}%'.format(100*acc_treino))\n",
        "print('A Acurácia de TESTE foi:  {:.2f}%'.format(100*acc_teste))"
      ],
      "execution_count": null,
      "outputs": [
        {
          "output_type": "stream",
          "text": [
            "A Acurácia de TREINO foi: 95.53%\n",
            "A Acurácia de TESTE foi:  95.61%\n"
          ],
          "name": "stdout"
        }
      ]
    },
    {
      "cell_type": "code",
      "metadata": {
        "id": "PemDZ-TlxwNJ"
      },
      "source": [
        "\n",
        "def Modelagem(k):\n",
        "\n",
        "    #Treinando o Modelo\n",
        "    from sklearn.neighbors import KNeighborsClassifier\n",
        "    knn = KNeighborsClassifier(n_neighbors = k)\n",
        "    knn.fit(Xtreino, Ytreino)\n",
        "\n",
        "    #Verificando o ACC\n",
        "    from sklearn.metrics import accuracy_score \n",
        "    preditos_teste = knn.predict(Xteste)\n",
        "    acc_teste = accuracy_score(preditos_teste, Yteste)\n",
        "    \n",
        "    return acc_teste"
      ],
      "execution_count": null,
      "outputs": []
    },
    {
      "cell_type": "code",
      "metadata": {
        "colab": {
          "base_uri": "https://localhost:8080/",
          "height": 379
        },
        "id": "HlN6v8Yrx1Zv",
        "outputId": "111a9ca0-f4ad-441c-e322-ea970aa1c574"
      },
      "source": [
        "import numpy as np\n",
        "kas = np.arange(1, 100, 2)\n",
        "kas\n",
        "accs = []\n",
        "\n",
        "for i in kas:\n",
        "    accs.append(Modelagem(i))\n",
        "\n",
        "accs\n",
        "import matplotlib.pyplot as plt\n",
        "\n",
        "#Qual é o valor de K que atinge o máximo da acurácia?\n",
        "kmax = kas[accs.index(max(accs))]\n",
        "\n",
        "\n",
        "plt.axvline(kmax, color = 'gray', linestyle = 'dashed')\n",
        "plt.axhline(max(accs), color = 'gray', linestyle = 'dashed')\n",
        "\n",
        "plt.plot(kas, accs, linewidth = 2)\n",
        "plt.ylim(min(accs), 1)\n",
        "frase = 'Acurácia máxima igual a {} usando K = {}.'.format(max(accs), kmax)\n",
        "plt.title(frase)\n",
        "plt.show()"
      ],
      "execution_count": null,
      "outputs": [
        {
          "output_type": "display_data",
          "data": {
            "image/png": "[encoded data removed]",
            "text/plain": [
              "<Figure size 600x400 with 1 Axes>"
            ]
          },
          "metadata": {
            "tags": []
          }
        }
      ]
    },
    {
      "cell_type": "code",
      "metadata": {
        "colab": {
          "base_uri": "https://localhost:8080/"
        },
        "id": "dSsE9f8ryj_q",
        "outputId": "28fc0d44-da7d-424a-94e2-c78dd52887b9"
      },
      "source": [
        "#Treinando o Modelo\n",
        "from sklearn.tree import DecisionTreeClassifier, plot_tree\n",
        "\n",
        "arvore = DecisionTreeClassifier(max_depth = 2)\n",
        "arvore.fit(Xtreino, Ytreino)\n",
        "\n",
        "#Verificando o ACC\n",
        "from sklearn.metrics import accuracy_score \n",
        "\n",
        "preditos_treino = arvore.predict(Xtreino)\n",
        "preditos_teste = arvore.predict(Xteste)\n",
        "acc_treino = accuracy_score(preditos_treino, Ytreino)\n",
        "acc_teste = accuracy_score(preditos_teste, Yteste)\n",
        "    \n",
        "print('A Acurácia de TREINO foi: {:.2f}%'.format(100*acc_treino))\n",
        "print('A Acurácia de TESTE foi:  {:.2f}%'.format(100*acc_teste))"
      ],
      "execution_count": null,
      "outputs": [
        {
          "output_type": "stream",
          "text": [
            "A Acurácia de TREINO foi: 99.57%\n",
            "A Acurácia de TESTE foi:  99.50%\n"
          ],
          "name": "stdout"
        }
      ]
    },
    {
      "cell_type": "code",
      "metadata": {
        "colab": {
          "base_uri": "https://localhost:8080/"
        },
        "id": "TPR6eAXzynrk",
        "outputId": "69b53621-faf5-43d3-8c5c-ac1e234c0570"
      },
      "source": [
        "from sklearn.ensemble import RandomForestClassifier\n",
        "\n",
        "rf = RandomForestClassifier() \n",
        "rf.fit(Xtreino, Ytreino)\n",
        "\n",
        "preditos_rf = rf.predict(Xteste)\n",
        "\n",
        "acc_rf = accuracy_score(preditos_rf, Yteste) \n",
        "    \n",
        "print('A Acurácia do RF foi: {:.2f}%'.format(100*acc_rf))"
      ],
      "execution_count": null,
      "outputs": [
        {
          "output_type": "stream",
          "text": [
            "A Acurácia do RF foi: 99.64%\n"
          ],
          "name": "stdout"
        }
      ]
    },
    {
      "cell_type": "code",
      "metadata": {
        "colab": {
          "base_uri": "https://localhost:8080/"
        },
        "id": "3OEbyG8C0ZHX",
        "outputId": "c6c6c08a-415d-4b77-b81c-54b381f853d3"
      },
      "source": [
        "from sklearn.tree import DecisionTreeClassifier, plot_tree\n",
        "from sklearn.neighbors import KNeighborsClassifier\n",
        "from sklearn.linear_model import LogisticRegression\n",
        "from sklearn.ensemble import VotingClassifier\n",
        " \n",
        "reglog = LogisticRegression()\n",
        "knn = KNeighborsClassifier(n_neighbors = 13)\n",
        "arvore = DecisionTreeClassifier(max_depth = 2)\n",
        "\n",
        "voto = VotingClassifier(estimators = [('Reg. Log.', reglog), ('KNN', knn), ('Árvore', arvore)])\n",
        "reglog.fit(Xtreino, Ytreino)\n",
        "arvore.fit(Xtreino, Ytreino)\n",
        "knn.fit(Xtreino, Ytreino)\n",
        "\n",
        "voto.fit(Xtreino, Ytreino)"
      ],
      "execution_count": 25,
      "outputs": [
        {
          "output_type": "execute_result",
          "data": {
            "text/plain": [
              "VotingClassifier(estimators=[('Reg. Log.',\n",
              "                              LogisticRegression(C=1.0, class_weight=None,\n",
              "                                                 dual=False, fit_intercept=True,\n",
              "                                                 intercept_scaling=1,\n",
              "                                                 l1_ratio=None, max_iter=100,\n",
              "                                                 multi_class='auto',\n",
              "                                                 n_jobs=None, penalty='l2',\n",
              "                                                 random_state=None,\n",
              "                                                 solver='lbfgs', tol=0.0001,\n",
              "                                                 verbose=0, warm_start=False)),\n",
              "                             ('KNN',\n",
              "                              KNeighborsClassifier(algorithm='auto',\n",
              "                                                   leaf_size=30,\n",
              "                                                   metric='minkow...\n",
              "                              DecisionTreeClassifier(ccp_alpha=0.0,\n",
              "                                                     class_weight=None,\n",
              "                                                     criterion='gini',\n",
              "                                                     max_depth=2,\n",
              "                                                     max_features=None,\n",
              "                                                     max_leaf_nodes=None,\n",
              "                                                     min_impurity_decrease=0.0,\n",
              "                                                     min_impurity_split=None,\n",
              "                                                     min_samples_leaf=1,\n",
              "                                                     min_samples_split=2,\n",
              "                                                     min_weight_fraction_leaf=0.0,\n",
              "                                                     presort='deprecated',\n",
              "                                                     random_state=None,\n",
              "                                                     splitter='best'))],\n",
              "                 flatten_transform=True, n_jobs=None, voting='hard',\n",
              "                 weights=None)"
            ]
          },
          "metadata": {
            "tags": []
          },
          "execution_count": 25
        }
      ]
    },
    {
      "cell_type": "code",
      "metadata": {
        "colab": {
          "base_uri": "https://localhost:8080/"
        },
        "id": "omwYGle90hcm",
        "outputId": "a847a5be-665c-4f0a-82a8-044efea32bca"
      },
      "source": [
        "from sklearn.metrics import accuracy_score \n",
        "\n",
        "preditos_reglog = reglog.predict(Xteste)\n",
        "preditos_knn = knn.predict(Xteste)\n",
        "preditos_arvore = arvore.predict(Xteste)\n",
        "preditos_voto = voto.predict(Xteste)\n",
        "\n",
        "acc_reglog = accuracy_score(preditos_reglog, Yteste)\n",
        "acc_knn = accuracy_score(preditos_knn, Yteste)\n",
        "acc_arvore = accuracy_score(preditos_arvore, Yteste)\n",
        "acc_voto = accuracy_score(preditos_voto, Yteste)\n",
        "    \n",
        "print('A Acurácia da Regressão Logística foi: {:.2f}%'.format(100*acc_reglog))\n",
        "print('A Acurácia do KNN foi: {:.2f}%'.format(100*acc_knn))\n",
        "print('A Acurácia da Árvore de Decisão foi: {:.2f}%'.format(100*acc_arvore))\n",
        "print('\\nA Acurácia da Combinação por Votos foi: {:.2f}%'.format(100*acc_voto))"
      ],
      "execution_count": 24,
      "outputs": [
        {
          "output_type": "stream",
          "text": [
            "A Acurácia da Regressão Logística foi: 95.54%\n",
            "A Acurácia do KNN foi: 91.94%\n",
            "A Acurácia da Árvore de Decisão foi: 98.13%\n",
            "\n",
            "A Acurácia da Combinação por Votos foi: 97.48%\n"
          ],
          "name": "stdout"
        }
      ]
    },
    {
      "cell_type": "code",
      "metadata": {
        "id": "Z2Ydhuqn0t2Z"
      },
      "source": [
        "from sklearn.ensemble import BaggingClassifier\n",
        "v_ab = []\n",
        "\n",
        "for i in range(1, 500, 4):\n",
        "  bag = BaggingClassifier(n_estimators = i) \n",
        "  bag.fit(Xtreino, Ytreino)\n",
        "\n",
        "  preditos_bag = bag.predict(Xteste)\n",
        "\n",
        "  acc_bag = accuracy_score(preditos_bag, Yteste) \n",
        "  v_ab.append(acc_bag)\n"
      ],
      "execution_count": null,
      "outputs": []
    },
    {
      "cell_type": "code",
      "metadata": {
        "id": "mXx46uts1WRg"
      },
      "source": [
        "print('A Acurácia do Bagging foi: {:.2f}%'.format(100*acc_bag))"
      ],
      "execution_count": null,
      "outputs": []
    },
    {
      "cell_type": "code",
      "metadata": {
        "colab": {
          "base_uri": "https://localhost:8080/"
        },
        "id": "dcaaRie41ged",
        "outputId": "e16a5191-e6d7-4f62-b6e5-2ef507acb2a7"
      },
      "source": [
        "v_ab2 = v_ab.sort(reverse = True)\n",
        "v_ab = v_ab[0:3]"
      ],
      "execution_count": 35,
      "outputs": [
        {
          "output_type": "execute_result",
          "data": {
            "text/plain": [
              "[0.9956803455723542, 0.9956803455723542, 0.9949604031677466]"
            ]
          },
          "metadata": {
            "tags": []
          },
          "execution_count": 35
        }
      ]
    }
  ]
}